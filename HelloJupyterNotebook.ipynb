{
  "cells": [
    {
      "cell_type": "markdown",
      "metadata": {
        "id": "view-in-github",
        "colab_type": "text"
      },
      "source": [
        "<a href=\"https://colab.research.google.com/github/ulisesbrc/abantecart/blob/main/HelloJupyterNotebook.ipynb\" target=\"_parent\"><img src=\"https://colab.research.google.com/assets/colab-badge.svg\" alt=\"Open In Colab\"/></a>"
      ]
    },
    {
      "cell_type": "markdown",
      "metadata": {
        "id": "Ifkuv77TXNVP"
      },
      "source": [
        "# Welcome!\n",
        "\n",
        "This is a simple *Jupyter Notebook* to get your work environment ready. In this notebook you will:\n",
        "\n",
        "*   Set permission requests to Git to run an \"imported notebook\"\n",
        "*   Print a simple \"Hello World\" in Python\n",
        "*   Learn how to save your Jupyter Notebooks\n",
        "*   Make sure you are all set to start having fun!\n"
      ]
    },
    {
      "cell_type": "markdown",
      "metadata": {
        "id": "506yRpor5orO"
      },
      "source": [
        "# Setting up permissions\n",
        "\n",
        "As probably this is the first time you run a an \"imported\" notebook, you will receive a Github permission request.\n",
        "\n",
        "![Github Warning](https://github.com/anyoneai/notebooks/raw/main/img/colab_warning.png)\n",
        "\n",
        "Pleas press \"Run anyway\" and you will be ready to start!\n",
        "Run anyway"
      ]
    },
    {
      "cell_type": "markdown",
      "metadata": {
        "id": "38KZog57umXk"
      },
      "source": [
        "# \"Hello World\" in Python\n",
        "In this excercise, you will simply print a \"Hello world\" in Python to make sure your work environment is ready.  \n",
        "\n",
        "Please click on the \"Run/Play\" button in the ***code cell*** below to execute the code in that cell. Go ahead, click on the \"Run\" button.\n"
      ]
    },
    {
      "cell_type": "code",
      "source": [
        "print(\"Hello world\")"
      ],
      "metadata": {
        "id": "sFLTy-Av5ZzL",
        "outputId": "68f98983-12f9-491f-b064-cdda02bb9b41",
        "colab": {
          "base_uri": "https://localhost:8080/"
        }
      },
      "execution_count": 1,
      "outputs": [
        {
          "output_type": "stream",
          "name": "stdout",
          "text": [
            "Hello world\n"
          ]
        }
      ]
    },
    {
      "cell_type": "code",
      "execution_count": null,
      "metadata": {
        "id": "sbfR9xN2XKKk"
      },
      "outputs": [],
      "source": [
        "print(\"Hello Jupyter Notebook\")"
      ]
    },
    {
      "cell_type": "markdown",
      "metadata": {
        "id": "B46Dy2wQJGTn"
      },
      "source": [
        "Hopefully everything worked and you can see the text \"Hello Jupyter Notebook\" printed below the print statement."
      ]
    },
    {
      "cell_type": "markdown",
      "metadata": {
        "id": "a5Cfxkfu6HlR"
      },
      "source": [
        "Next, lets try a little bit more complex \"Hello World\":"
      ]
    },
    {
      "cell_type": "code",
      "execution_count": null,
      "metadata": {
        "id": "ef0P-FqdJanM"
      },
      "outputs": [],
      "source": [
        "def hello_from_jupyter():\n",
        "  users_name = input(\"What is your name? \")\n",
        "  print(\"Hello %s\" % users_name)\n",
        "\n",
        "hello_from_jupyter()"
      ]
    },
    {
      "cell_type": "markdown",
      "metadata": {
        "id": "YeEuW7DcKWo7"
      },
      "source": [
        "The above cell defines and simple function that will ask for a name, will store the value that user provides in a variable and then prints it out as part of the \"Hello\" statement."
      ]
    },
    {
      "cell_type": "markdown",
      "metadata": {
        "id": "150_tvlcuuWh"
      },
      "source": [
        "# Saving your Jupyter Notebooks\n",
        "\n",
        "Before we wrap this up, we will teach you how to make a copy of this notebook in Google Drive so you can code and you will not lose any work you've done. The notebook stored in your Google Drive file will persist your latest changes. Also we recommend you to rename your 'HelloJupyterNotebook.ipynb' with something like 'MyHelloJupyterNotebook.ipynb' so you can easily find it in the future.\n",
        "\n",
        "To save this notebook into your Google Drive please go to menu File/Save a Copy In Drive:\n",
        "\n",
        "![Saving notebook to drive](https://github.com/anyoneai/notebooks/raw/main/img/saving_notebook.png)\n",
        "\n",
        "Or clicking in the button \"Copy to Drive\":\n",
        "\n",
        "![Copy to drive](https://github.com/anyoneai/notebooks/raw/main/img/copy_to_drive.png)\n",
        "\n",
        "Lastly, you should see the file in your Google Drive account, under a folder called Colab Notebooks:\n",
        "\n",
        "![Google drive](https://github.com/anyoneai/notebooks/raw/main/img/google_drive.png)\n"
      ]
    },
    {
      "cell_type": "markdown",
      "metadata": {
        "id": "qHWBwPhdxFGt"
      },
      "source": [
        "# Closing\n",
        "This is it for now. If you were able to run the code and save your notebook into Google Drive, you are all setup and you can go back to the course!"
      ]
    }
  ],
  "metadata": {
    "colab": {
      "name": "[Ready] HelloJupyterNotebook.ipynb",
      "provenance": [],
      "toc_visible": true,
      "include_colab_link": true
    },
    "kernelspec": {
      "display_name": "Python 3 (ipykernel)",
      "language": "python",
      "name": "python3"
    },
    "language_info": {
      "codemirror_mode": {
        "name": "ipython",
        "version": 3
      },
      "file_extension": ".py",
      "mimetype": "text/x-python",
      "name": "python",
      "nbconvert_exporter": "python",
      "pygments_lexer": "ipython3",
      "version": "3.9.9"
    }
  },
  "nbformat": 4,
  "nbformat_minor": 0
}